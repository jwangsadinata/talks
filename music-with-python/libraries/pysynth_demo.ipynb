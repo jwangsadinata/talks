{
 "cells": [
  {
   "cell_type": "markdown",
   "metadata": {},
   "source": [
    "# Pysynth Demo\n",
    "\n",
    "In this demo, I hope to show you some of the things that you can do with the `pysynth` library.\n",
    "\n",
    "We will explore the following:\n",
    " - Writing a song that can be parsed by the module\n",
    " - How to generate a `.wav` file \n",
    " - How to mix two different `.wav` file into a single `.wav` file\n",
    "\n",
    "A canonical example can be found at [https://mdoege.github.io/PySynth/](https://mdoege.github.io/PySynth/).\n",
    "\n",
    "Credits to Martin Doege for the J.S. Bach piece."
   ]
  },
  {
   "cell_type": "code",
   "execution_count": null,
   "metadata": {},
   "outputs": [],
   "source": [
    "import pysynth as ps"
   ]
  },
  {
   "cell_type": "markdown",
   "metadata": {},
   "source": [
    "Here's a small snippet of a song that I have prepared for you, maybe anyone can tell me what song this is?"
   ]
  },
  {
   "cell_type": "code",
   "execution_count": null,
   "metadata": {},
   "outputs": [],
   "source": [
    "demo_song = (('e3', 8), ('f3', 8), ('g3', 4),('e', -4),\n",
    "            ('e', 8), ('d', 8), ('d', 8), ('c', 4), ('g3', 2),\n",
    "            ('g3', 8), ('g3', 8), ('a3', 4), ('g3', 4) ,\n",
    "            ('f3', 4), ('e3', 4), ('d3', -2))"
   ]
  },
  {
   "cell_type": "markdown",
   "metadata": {},
   "source": [
    "Well, we can certainly try to convert it into a `.wav` file and hear it for ourselves."
   ]
  },
  {
   "cell_type": "code",
   "execution_count": null,
   "metadata": {},
   "outputs": [],
   "source": [
    "ps.make_wav(demo_song, fn = \"demo_song.wav\")"
   ]
  },
  {
   "cell_type": "markdown",
   "metadata": {},
   "source": [
    "Now, consider another example. This time it's a classical song by J.S. Bach called Bourrée (from BWV 996)"
   ]
  },
  {
   "cell_type": "code",
   "execution_count": null,
   "metadata": {},
   "outputs": [],
   "source": [
    "bach_rh = (\n",
    "  ('e', 8), ('f#', 8),\n",
    "  ('g*', 4), ('f#', 8), ('e', 8), ('d#*', 4), ('e', 8), ('f#', 8),\n",
    "  ('b3*', 4), ('c#', 8), ('d#', 8), ('e*', 4), ('d', 8), ('c', 8),\n",
    "  ('b3*', 4), ('a3', 8), ('g3', 8), ('f#3*', 4), ('g3', 8), ('a3', 8),\n",
    "  ('b3*', 8), ('a3', 8), ('g3', 8), ('f#3', 8), ('e3*', 4), ('e', 8), ('f#', 8),\n",
    "  ('g*', 4), ('f#', 8), ('e', 8), ('d#*', 4), ('e', 8), ('f#', 8),\n",
    "  ('b3*', 4), ('c#', 8), ('d#', 8), ('e*', 4), ('d', 8), ('c', 8),\n",
    "  ('b3*', 4), ('a3', 8), ('g3', 8), ('g3*', 32), ('f#3*', 32), ('g3*', 32), \n",
    "  ('f#3*', 32), ('g3*', 32), ('f#3*', 32), ('g3*', 32), ('f#3*', 6.4), ('g3', 8), \n",
    "  ('g3*', -2),\n",
    ")\n",
    "\n",
    "bach_lh = (\n",
    "  ('g2', 8), ('f#2', 8),\n",
    "  ('e2*', 4), ('a2', 4), ('b2', 4), ('a2', 4),\n",
    "  ('g2*', 4), ('f#2', 4), ('e2', 4), ('f#2', 4),\n",
    "  ('g2*', 4), ('a2', 4), ('b2', 4), ('a2', 4),\n",
    "  ('g2*', 4), ('b2', 4), ('e2', 8), ('f#2', 8), ('g2', 8), ('f#2', 8),\n",
    "  ('e2*', 4), ('a2', 4), ('b2', 4), ('a2', 4),\n",
    "  ('g2*', 4), ('f#2', 4), ('e2', 4), ('f#2', 4),\n",
    "  ('g2*', 4), ('c3', 4), ('d3', 4), ('d3', 4),\n",
    "  ('b2*', -2),\n",
    ")"
   ]
  },
  {
   "cell_type": "markdown",
   "metadata": {},
   "source": [
    "Let's generate a `.wav` file for both `bach_rh` and `bach_lh`"
   ]
  },
  {
   "cell_type": "code",
   "execution_count": null,
   "metadata": {},
   "outputs": [],
   "source": [
    "ps.make_wav(bach_rh, bpm = 130, transpose = 1, pause = .1, boost = 1.15, repeat = 1, fn = \"bach_rh.wav\")\n",
    "ps.make_wav(bach_lh, bpm = 130, transpose = 1, pause = .1, boost = 1.15, repeat = 1, fn = \"bach_lh.wav\")"
   ]
  },
  {
   "cell_type": "markdown",
   "metadata": {},
   "source": [
    "Now, let's combine both parts into a single `.wav` file."
   ]
  },
  {
   "cell_type": "code",
   "execution_count": null,
   "metadata": {},
   "outputs": [],
   "source": [
    "ps.mix_files(\"bach_rh.wav\", \"bach_lh.wav\", \"bach.wav\")"
   ]
  }
 ],
 "metadata": {
  "kernelspec": {
   "display_name": "Python 3",
   "language": "python",
   "name": "python3"
  },
  "language_info": {
   "codemirror_mode": {
    "name": "ipython",
    "version": 3
   },
   "file_extension": ".py",
   "mimetype": "text/x-python",
   "name": "python",
   "nbconvert_exporter": "python",
   "pygments_lexer": "ipython3",
   "version": "3.6.3"
  }
 },
 "nbformat": 4,
 "nbformat_minor": 2
}
